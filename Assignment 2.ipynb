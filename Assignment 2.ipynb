{
 "cells": [
  {
   "cell_type": "markdown",
   "id": "92778525",
   "metadata": {},
   "source": [
    "# Assignment 2: Linear Models and Validation Metrics (30 marks total)\n",
    "### Due: October 10 at 11:59pm\n",
    "\n",
    "### Name: "
   ]
  },
  {
   "cell_type": "markdown",
   "id": "ce31b39a",
   "metadata": {},
   "source": [
    "### In this assignment, you will need to write code that uses linear models to perform classification and regression tasks. You will also be asked to describe the process by which you came up with the code. More details can be found below. Please cite any websites or AI tools that you used to help you with this assignment."
   ]
  },
  {
   "cell_type": "markdown",
   "id": "f7c6de86",
   "metadata": {},
   "source": [
    "## Part 1: Classification (14.5 marks total)\n",
    "\n",
    "You have been asked to develop code that can help the user determine if the email they have received is spam or not. Following the machine learning workflow described in class, write the relevant code in each of the steps below:"
   ]
  },
  {
   "cell_type": "markdown",
   "id": "7e3c6fc8",
   "metadata": {},
   "source": [
    "### Step 0: Import Libraries"
   ]
  },
  {
   "cell_type": "code",
   "execution_count": 2,
   "id": "33f86925",
   "metadata": {},
   "outputs": [],
   "source": [
    "import numpy as np\n",
    "import pandas as pd"
   ]
  },
  {
   "cell_type": "markdown",
   "id": "5f9d33a8",
   "metadata": {},
   "source": [
    "### Step 1: Data Input (1 mark)\n",
    "\n",
    "The data used for this task can be downloaded using the yellowbrick library: \n",
    "https://www.scikit-yb.org/en/latest/api/datasets/spam.html\n",
    "\n",
    "Use the yellowbrick function `load_spam()` to load the spam dataset into the feature matrix `X` and target vector `y`.\n",
    "\n",
    "Print the size and type of `X` and `y`."
   ]
  },
  {
   "cell_type": "code",
   "execution_count": 3,
   "id": "33583c67",
   "metadata": {},
   "outputs": [
    {
     "name": "stdout",
     "output_type": "stream",
     "text": [
      "\n",
      "The size and type(s) of X: \n",
      "\n",
      "(4600, 57)\n",
      "word_freq_make                float64\n",
      "word_freq_address             float64\n",
      "word_freq_all                 float64\n",
      "word_freq_3d                  float64\n",
      "word_freq_our                 float64\n",
      "word_freq_over                float64\n",
      "word_freq_remove              float64\n",
      "word_freq_internet            float64\n",
      "word_freq_order               float64\n",
      "word_freq_mail                float64\n",
      "word_freq_receive             float64\n",
      "word_freq_will                float64\n",
      "word_freq_people              float64\n",
      "word_freq_report              float64\n",
      "word_freq_addresses           float64\n",
      "word_freq_free                float64\n",
      "word_freq_business            float64\n",
      "word_freq_email               float64\n",
      "word_freq_you                 float64\n",
      "word_freq_credit              float64\n",
      "word_freq_your                float64\n",
      "word_freq_font                float64\n",
      "word_freq_000                 float64\n",
      "word_freq_money               float64\n",
      "word_freq_hp                  float64\n",
      "word_freq_hpl                 float64\n",
      "word_freq_george              float64\n",
      "word_freq_650                 float64\n",
      "word_freq_lab                 float64\n",
      "word_freq_labs                float64\n",
      "word_freq_telnet              float64\n",
      "word_freq_857                 float64\n",
      "word_freq_data                float64\n",
      "word_freq_415                 float64\n",
      "word_freq_85                  float64\n",
      "word_freq_technology          float64\n",
      "word_freq_1999                float64\n",
      "word_freq_parts               float64\n",
      "word_freq_pm                  float64\n",
      "word_freq_direct              float64\n",
      "word_freq_cs                  float64\n",
      "word_freq_meeting             float64\n",
      "word_freq_original            float64\n",
      "word_freq_project             float64\n",
      "word_freq_re                  float64\n",
      "word_freq_edu                 float64\n",
      "word_freq_table               float64\n",
      "word_freq_conference          float64\n",
      "char_freq_;                   float64\n",
      "char_freq_(                   float64\n",
      "char_freq_[                   float64\n",
      "char_freq_!                   float64\n",
      "char_freq_$                   float64\n",
      "char_freq_#                   float64\n",
      "capital_run_length_average    float64\n",
      "capital_run_length_longest      int64\n",
      "capital_run_length_total        int64\n",
      "dtype: object\n",
      "\n",
      "The size and type(s) of Y: \n",
      "\n",
      "(4600,)\n",
      "int64\n"
     ]
    }
   ],
   "source": [
    "# TO DO: Import spam dataset from yellowbrick library\n",
    "from yellowbrick.datasets import load_spam\n",
    "\n",
    "X, y = load_spam()\n",
    "# TO DO: Print size and type of X and y\n",
    "\n",
    "# print(\"Size of X: \", X.shape)\n",
    "# print(\"Type of X: \", type(X))\n",
    "# print(\"Size of y: \", y.shape)\n",
    "# print(\"Type of y: \", type(y))\n",
    "\n",
    "print(\"\\nThe size and type(s) of X: \\n\") \n",
    "print(X.shape)\n",
    "print(X.dtypes)\n",
    "print(\"\\nThe size and type(s) of Y: \\n\")\n",
    "print(y.shape)\n",
    "print(y.dtypes)\n"
   ]
  },
  {
   "cell_type": "markdown",
   "id": "156db208",
   "metadata": {},
   "source": [
    "### Step 2: Data Processing (1.5 marks)\n",
    "\n",
    "Check to see if there are any missing values in the dataset. If necessary, select an appropriate method to fill-in the missing values."
   ]
  },
  {
   "cell_type": "code",
   "execution_count": 4,
   "id": "4e7204f5",
   "metadata": {},
   "outputs": [
    {
     "name": "stdout",
     "output_type": "stream",
     "text": [
      " word_freq_make                0\n",
      "word_freq_address             0\n",
      "word_freq_all                 0\n",
      "word_freq_3d                  0\n",
      "word_freq_our                 0\n",
      "word_freq_over                0\n",
      "word_freq_remove              0\n",
      "word_freq_internet            0\n",
      "word_freq_order               0\n",
      "word_freq_mail                0\n",
      "word_freq_receive             0\n",
      "word_freq_will                0\n",
      "word_freq_people              0\n",
      "word_freq_report              0\n",
      "word_freq_addresses           0\n",
      "word_freq_free                0\n",
      "word_freq_business            0\n",
      "word_freq_email               0\n",
      "word_freq_you                 0\n",
      "word_freq_credit              0\n",
      "word_freq_your                0\n",
      "word_freq_font                0\n",
      "word_freq_000                 0\n",
      "word_freq_money               0\n",
      "word_freq_hp                  0\n",
      "word_freq_hpl                 0\n",
      "word_freq_george              0\n",
      "word_freq_650                 0\n",
      "word_freq_lab                 0\n",
      "word_freq_labs                0\n",
      "word_freq_telnet              0\n",
      "word_freq_857                 0\n",
      "word_freq_data                0\n",
      "word_freq_415                 0\n",
      "word_freq_85                  0\n",
      "word_freq_technology          0\n",
      "word_freq_1999                0\n",
      "word_freq_parts               0\n",
      "word_freq_pm                  0\n",
      "word_freq_direct              0\n",
      "word_freq_cs                  0\n",
      "word_freq_meeting             0\n",
      "word_freq_original            0\n",
      "word_freq_project             0\n",
      "word_freq_re                  0\n",
      "word_freq_edu                 0\n",
      "word_freq_table               0\n",
      "word_freq_conference          0\n",
      "char_freq_;                   0\n",
      "char_freq_(                   0\n",
      "char_freq_[                   0\n",
      "char_freq_!                   0\n",
      "char_freq_$                   0\n",
      "char_freq_#                   0\n",
      "capital_run_length_average    0\n",
      "capital_run_length_longest    0\n",
      "capital_run_length_total      0\n",
      "dtype: int64\n",
      " 0\n"
     ]
    }
   ],
   "source": [
    "# TO DO: Check if there are any missing values and fill them in if necessary\n",
    "\n",
    "missing_x_values = X.isna().sum()\n",
    "missing_y_values = y.isna().sum()\n",
    "\n",
    "\n",
    "print(\"\", missing_x_values)\n",
    "print(\"\", missing_y_values)\n",
    "\n",
    "# No missing values, proceed"
   ]
  },
  {
   "cell_type": "markdown",
   "id": "a489285a",
   "metadata": {},
   "source": [
    "For this task, we want to test if the linear model would still work if we used less data. Use the `train_test_split` function from sklearn to create a new feature matrix named `X_small` and a new target vector named `y_small` that contain **5%** of the data."
   ]
  },
  {
   "cell_type": "code",
   "execution_count": 5,
   "id": "f9bc4a23",
   "metadata": {},
   "outputs": [
    {
     "name": "stdout",
     "output_type": "stream",
     "text": [
      "(184, 57)\n",
      "(46, 57)\n"
     ]
    }
   ],
   "source": [
    "# TO DO: Create X_small and y_small \n",
    "\n",
    "from sklearn.model_selection import train_test_split\n",
    "\n",
    "# Take 5% of the dataset and then split into 80-20 for training and testing\n",
    "\n",
    "\n",
    "X_small, _, y_small, _ = train_test_split(X, y, train_size = 0.05, random_state = 42)\n",
    "\n",
    "X_small, X_small_test, y_small, y_small_test = train_test_split(X_small, y_small, test_size = 0.2, random_state = 42)\n",
    "\n",
    "print(X_small.shape)\n",
    "print(X_small_test.shape)"
   ]
  },
  {
   "cell_type": "markdown",
   "id": "70e6c46f",
   "metadata": {},
   "source": [
    "### Step 3: Implement Machine Learning Model\n",
    "\n",
    "1. Import `LogisticRegression` from sklearn\n",
    "2. Instantiate model `LogisticRegression(max_iter=2000)`.\n",
    "3. Implement the machine learning model with three different datasets: \n",
    "    - `X` and `y`\n",
    "    - Only first two columns of `X` and `y`\n",
    "    - `X_small` and `y_small`"
   ]
  },
  {
   "cell_type": "markdown",
   "id": "b89f3d84",
   "metadata": {},
   "source": [
    "### Step 4: Validate Model\n",
    "\n",
    "Calculate the training and validation accuracy for the three different tests implemented in Step 3"
   ]
  },
  {
   "cell_type": "markdown",
   "id": "352106a3",
   "metadata": {},
   "source": [
    "### Step 5: Visualize Results (4 marks)\n",
    "\n",
    "1. Create a pandas DataFrame `results` with columns: Data size, training accuracy, validation accuracy\n",
    "2. Add the data size, training and validation accuracy for each dataset to the `results` DataFrame\n",
    "3. Print `results`"
   ]
  },
  {
   "cell_type": "code",
   "execution_count": 6,
   "id": "be4b5c0a",
   "metadata": {},
   "outputs": [
    {
     "name": "stdout",
     "output_type": "stream",
     "text": [
      "Intel MKL WARNING: Support of Intel(R) Streaming SIMD Extensions 4.2 (Intel(R) SSE4.2) enabled only processors has been deprecated. Intel oneAPI Math Kernel Library 2025.0 will require Intel(R) Advanced Vector Extensions (Intel(R) AVX) instructions.\n"
     ]
    },
    {
     "data": {
      "text/html": [
       "<div>\n",
       "<style scoped>\n",
       "    .dataframe tbody tr th:only-of-type {\n",
       "        vertical-align: middle;\n",
       "    }\n",
       "\n",
       "    .dataframe tbody tr th {\n",
       "        vertical-align: top;\n",
       "    }\n",
       "\n",
       "    .dataframe thead th {\n",
       "        text-align: right;\n",
       "    }\n",
       "</style>\n",
       "<table border=\"1\" class=\"dataframe\">\n",
       "  <thead>\n",
       "    <tr style=\"text-align: right;\">\n",
       "      <th></th>\n",
       "      <th>Data Size</th>\n",
       "      <th>Training Accuracy</th>\n",
       "      <th>Validation Accuracy</th>\n",
       "    </tr>\n",
       "  </thead>\n",
       "  <tbody>\n",
       "    <tr>\n",
       "      <th>0</th>\n",
       "      <td>(3680, 57)</td>\n",
       "      <td>0.934239</td>\n",
       "      <td>0.908696</td>\n",
       "    </tr>\n",
       "    <tr>\n",
       "      <th>1</th>\n",
       "      <td>(3680, 2)</td>\n",
       "      <td>0.620109</td>\n",
       "      <td>0.589130</td>\n",
       "    </tr>\n",
       "    <tr>\n",
       "      <th>2</th>\n",
       "      <td>(184, 57)</td>\n",
       "      <td>0.961957</td>\n",
       "      <td>0.891304</td>\n",
       "    </tr>\n",
       "  </tbody>\n",
       "</table>\n",
       "</div>"
      ],
      "text/plain": [
       "    Data Size  Training Accuracy  Validation Accuracy\n",
       "0  (3680, 57)           0.934239             0.908696\n",
       "1   (3680, 2)           0.620109             0.589130\n",
       "2   (184, 57)           0.961957             0.891304"
      ]
     },
     "execution_count": 6,
     "metadata": {},
     "output_type": "execute_result"
    }
   ],
   "source": [
    "# TO DO: ADD YOUR CODE HERE FOR STEPS 3-5\n",
    "# Note: for any random state parameters, you can use random_state = 0\n",
    "# HINT: USING A LOOP TO STORE THE DATA IN YOUR RESULTS DATAFRAME WILL BE MORE EFFICIENT\n",
    "\n",
    "from sklearn.linear_model import LogisticRegression\n",
    "\n",
    "# Instantiating model\n",
    "model = LogisticRegression(max_iter=2000)\n",
    "\n",
    "# ALL THE DATA, with an 80-20 train-test split \n",
    "X_train, X_test, y_train, y_test = train_test_split(X, y, test_size=0.2, random_state=42)\n",
    "\n",
    "model_all = LogisticRegression(max_iter=2000)\n",
    "model_all.fit(X_train, y_train)\n",
    "\n",
    "# Training set and validation for entire dataset\n",
    "\n",
    "train_all_score = model_all.score(X_train, y_train)\n",
    "valid_all_score = model_all.score(X_test, y_test)\n",
    "\n",
    "# Using the first two columns and an 80-20 train-test split\n",
    "# Short stands for shortened here\n",
    "\n",
    "X_short = X.iloc[:, :2]\n",
    "\n",
    "X_short_train, X_short_test, y_short_train, y_short_test = train_test_split(X_short, y, test_size=0.2, random_state=42)\n",
    "\n",
    "model_short = LogisticRegression(max_iter=2000)\n",
    "model_short.fit(X_short_train, y_short_train)\n",
    "\n",
    "train_short_score = model_short.score(X_short_train, y_short_train)\n",
    "valid_short_score = model_short.score(X_short_test, y_short_test)\n",
    "\n",
    "# Using only 5% of the data now\n",
    "\n",
    "model_small = LogisticRegression(max_iter=2000)\n",
    "model_small.fit(X_small, y_small)\n",
    "\n",
    "train_small_score = model_small.score(X_small, y_small)\n",
    "valid_small_score = model_small.score(X_small_test, y_small_test)\n",
    "\n",
    "# Creating a dataframe to store the results\n",
    "\n",
    "data = {'Data Size': [X_train.shape, X_short_train.shape, X_small.shape],\n",
    "            'Training Accuracy': [train_all_score, train_short_score, train_small_score],\n",
    "            'Validation Accuracy': [valid_all_score, valid_short_score, valid_small_score]}\n",
    "results = pd.DataFrame(data)\n",
    "results\n"
   ]
  },
  {
   "cell_type": "markdown",
   "id": "d4427d4f",
   "metadata": {},
   "source": [
    "### Questions (4 marks)\n",
    "1. How do the training and validation accuracy change depending on the amount of data used? Explain with values.\n",
    "2. In this case, what do a false positive and a false negative represent? Which one is worse?\n",
    "\n",
    "*YOUR ANSWERS HERE*\n",
    "\n",
    "1. The training and validation scores are clearly impacted by the amount of data used. In the previous example it is clear that using a smaller data size with little to no y-values to allow the model to be properly trained amounts in an underfit model. Specifically using (3680, 57) which is the whole dataset vs (3680, 2) which is the truncated version of the original results in a training score of 93.4% vs 62% and a validation score of 90.8% vs 58.9%. It is clear that there are not enough y-values to produce a useful model. Using the last row in the above table, we see a training score of 96.2% and a valdiation score of 89.1%, but without ample amounts of data it is likely that the model is being overfit. \n",
    "\n",
    "2. A false positive in this case represents the model determining there is spam when it is not. A false negative represents the model determining there is no spam and allowing it to pass. It is clear that not allowing legitimate emails and sending them to spam is worse because important emails such as banking, school, personal items could be missed. "
   ]
  },
  {
   "cell_type": "markdown",
   "id": "7559517a",
   "metadata": {},
   "source": [
    "### Process Description (4 marks)\n",
    "Please describe the process you used to create your code. Cite any websites or generative AI tools used. You can use the following questions as guidance:\n",
    "1. Where did you source your code?\n",
    "1. In what order did you complete the steps?\n",
    "1. If you used generative AI, what prompts did you use? Did you need to modify the code at all? Why or why not?\n",
    "1. Did you have any challenges? If yes, what were they? If not, what helped you to be successful?"
   ]
  },
  {
   "cell_type": "markdown",
   "id": "59fe687f",
   "metadata": {},
   "source": [
    "*DESCRIBE YOUR PROCESS HERE*\n",
    "\n",
    "1. The source was based off the Linear Example-filled.ipynb that was provided to us in Lecture. The steps were naturally very similar and allowed me to closely follow along to achieve the aim of the first exercise. \n",
    "2. I completed the steps in the order they were provided in the notebook, this helped me keep track of the steps already completed.\n",
    "3. Generative AI was used for the first exercise to find the proper referencing in order to create a new panda's dataframe with all the data I had calculated.\n",
    "4. Yes I did, my main challenge was remembering the names used and keeping them straight. Otherwise, I would be performing a task on the wrong dataset. I also struggled with the initial splitting of data as I thought the assignment was asking us to use 5% of the data to test and use 95% to train."
   ]
  },
  {
   "cell_type": "markdown",
   "id": "fb4c78a8",
   "metadata": {},
   "source": [
    "## Part 2: Regression (10.5 marks total)\n",
    "\n",
    "For this section, we will be evaluating concrete compressive strength of different concrete samples, based on age and ingredients. You will need to repeat the steps 1-4 from Part 1 for this analysis."
   ]
  },
  {
   "cell_type": "markdown",
   "id": "b2ba83c5",
   "metadata": {},
   "source": [
    "### Step 1: Data Input (1 mark)\n",
    "\n",
    "The data used for this task can be downloaded using the yellowbrick library: \n",
    "https://www.scikit-yb.org/en/latest/api/datasets/concrete.html\n",
    "\n",
    "Use the yellowbrick function `load_concrete()` to load the spam dataset into the feature matrix `X` and target vector `y`.\n",
    "\n",
    "Print the size and type of `X` and `y`."
   ]
  },
  {
   "cell_type": "code",
   "execution_count": 7,
   "id": "6ff2e34f",
   "metadata": {},
   "outputs": [
    {
     "name": "stdout",
     "output_type": "stream",
     "text": [
      "(1030, 8)\n",
      "(1030,)\n"
     ]
    },
    {
     "data": {
      "text/plain": [
       "dtype('float64')"
      ]
     },
     "execution_count": 7,
     "metadata": {},
     "output_type": "execute_result"
    }
   ],
   "source": [
    "# TO DO: Import spam dataset from yellowbrick library\n",
    "\n",
    "from yellowbrick.datasets import load_concrete\n",
    "\n",
    "X, y = load_concrete()\n",
    "\n",
    "# TO DO: Print size and type of X and y\n",
    "\n",
    "print(X.shape)\n",
    "X.dtypes\n",
    "print(y.shape)\n",
    "y.dtypes"
   ]
  },
  {
   "cell_type": "markdown",
   "id": "c5294cfa",
   "metadata": {},
   "source": [
    "### Step 2: Data Processing (0.5 marks)\n",
    "\n",
    "Check to see if there are any missing values in the dataset. If necessary, select an appropriate method to fill-in the missing values."
   ]
  },
  {
   "cell_type": "code",
   "execution_count": 8,
   "id": "693c5fa3",
   "metadata": {},
   "outputs": [
    {
     "name": "stdout",
     "output_type": "stream",
     "text": [
      " cement    0\n",
      "slag      0\n",
      "ash       0\n",
      "water     0\n",
      "splast    0\n",
      "coarse    0\n",
      "fine      0\n",
      "age       0\n",
      "dtype: int64\n",
      " 0\n"
     ]
    }
   ],
   "source": [
    "# TO DO: Check if there are any missing values and fill them in if necessary\n",
    "\n",
    "missing_x_values = X.isna().sum()\n",
    "missing_y_values = y.isna().sum()\n",
    "\n",
    "\n",
    "print(\"\", missing_x_values)\n",
    "print(\"\", missing_y_values)"
   ]
  },
  {
   "cell_type": "markdown",
   "id": "1bc60489",
   "metadata": {},
   "source": [
    "### Step 3: Implement Machine Learning Model (1 mark)\n",
    "\n",
    "1. Import `LinearRegression` from sklearn\n",
    "2. Instantiate model `LogisticRegression(max_iter=2000)`.\n",
    "3. Implement the machine learning model with `X` and `y`"
   ]
  },
  {
   "cell_type": "code",
   "execution_count": 9,
   "id": "b5041945",
   "metadata": {},
   "outputs": [],
   "source": [
    "# TO DO: ADD YOUR CODE HERE\n",
    "# Note: for any random state parameters, you can use random_state = 0\n",
    "\n",
    "from sklearn.model_selection import train_test_split\n",
    "from sklearn.linear_model import LinearRegression\n",
    "\n",
    "# Split the data into training and testing sets\n",
    "X_train, X_test, y_train, y_test = train_test_split(X, y, random_state=0)\n",
    "\n",
    "# Instantiate and fit the Linear Regression model\n",
    "model = LinearRegression().fit(X_train, y_train)"
   ]
  },
  {
   "cell_type": "code",
   "execution_count": 10,
   "id": "7d0092e4",
   "metadata": {},
   "outputs": [],
   "source": [
    "# Fit the model to the training data\n",
    "y_train_pred = model.predict(X_train)\n",
    "y_test_pred = model.predict(X_test)"
   ]
  },
  {
   "cell_type": "markdown",
   "id": "1de28482",
   "metadata": {},
   "source": [
    "### Step 4: Validate Model (1 mark)\n",
    "\n",
    "Calculate the training and validation accuracy using mean squared error and R2 score."
   ]
  },
  {
   "cell_type": "code",
   "execution_count": 11,
   "id": "970c038b",
   "metadata": {},
   "outputs": [
    {
     "name": "stdout",
     "output_type": "stream",
     "text": [
      "Training Accuracy mean squared error:  111.35843861132467\n",
      "Training Accuracy r squared error:  0.6108229424520555\n",
      "Validation Accuracy mean squared error:  95.90413603680643\n",
      "Validation Accuracy r squared error:  0.6234144623633329\n"
     ]
    }
   ],
   "source": [
    "# TO DO: ADD YOUR CODE HERE\n",
    "\n",
    "from sklearn.metrics import mean_squared_error\n",
    "from sklearn.metrics import r2_score\n",
    "\n",
    "# Mean squared error for training and test\n",
    "\n",
    "mse_train = mean_squared_error(y_train, y_train_pred)\n",
    "mse_test = mean_squared_error(y_test, y_test_pred)\n",
    "\n",
    "# r2 error for training and test\n",
    "\n",
    "r2_train = r2_score(y_train, y_train_pred)\n",
    "r2_test = r2_score(y_test, y_test_pred)\n",
    "\n",
    "print(\"Training Accuracy mean squared error: \", mse_train)\n",
    "print(\"Training Accuracy r squared error: \", r2_train)\n",
    "print(\"Validation Accuracy mean squared error: \", mse_test)\n",
    "print(\"Validation Accuracy r squared error: \", r2_test)\n"
   ]
  },
  {
   "cell_type": "markdown",
   "id": "54aa7795",
   "metadata": {},
   "source": [
    "### Step 5: Visualize Results (1 mark)\n",
    "1. Create a pandas DataFrame `results` with columns: Training accuracy and Validation accuracy, and index: MSE and R2 score\n",
    "2. Add the accuracy results to the `results` DataFrame\n",
    "3. Print `results`"
   ]
  },
  {
   "cell_type": "code",
   "execution_count": 12,
   "id": "88d223f3",
   "metadata": {},
   "outputs": [
    {
     "name": "stdout",
     "output_type": "stream",
     "text": [
      "          MSE        R2\n",
      "0  111.358439  0.610823\n",
      "1   95.904136  0.623414\n"
     ]
    }
   ],
   "source": [
    "# TO DO: ADD YOUR CODE HERE\n",
    "\n",
    "results_data = {\n",
    "    \"MSE\": [mse_train, mse_test],\n",
    "    \"R2\": [r2_train, r2_test]\n",
    "}\n",
    "\n",
    "results = pd.DataFrame(results_data)\n",
    "print(results)"
   ]
  },
  {
   "cell_type": "markdown",
   "id": "70a42bda",
   "metadata": {},
   "source": [
    "### Questions (2 marks)\n",
    "1. Did using a linear model produce good results for this dataset? Why or why not?\n",
    "\n",
    "Using a linear model did not produce good results. This can be seen as there is a high mean squared error value of 111.36 for the training set and 95.90 for the validation set. The R2 values were not much better as results of 0.6108 and 0.6243 were produced, respectively. \n",
    "\n",
    "The large MSE shows that the model's predictions are further from the true values and the low R2 value shows there is a large variance between the predicited and actual values that the model is not catching. \n"
   ]
  },
  {
   "cell_type": "markdown",
   "id": "2ca0ff2f",
   "metadata": {},
   "source": [
    "### Process Description (4 marks)\n",
    "Please describe the process you used to create your code. Cite any websites or generative AI tools used. You can use the following questions as guidance:\n",
    "1. Where did you source your code?\n",
    "1. In what order did you complete the steps?\n",
    "1. If you used generative AI, what prompts did you use? Did you need to modify the code at all? Why or why not?\n",
    "1. Did you have any challenges? If yes, what were they? If not, what helped you to be successful?"
   ]
  },
  {
   "cell_type": "markdown",
   "id": "dfdb0880",
   "metadata": {},
   "source": [
    "*DESCRIBE YOUR PROCESS HERE*\n",
    "\n",
    "1. The code was scored from a few different examples that we did in class. Particulary the Linear Regression Example and the Regression Metrics Example. Some of this was also covered in the lab on Oct 2, 2023.\n",
    "2. I completed the steps in the order they were provided as it allowed us to use the same outline as part one of this assignment and then combine it with the regression metrics stuff we learned in class.\n",
    "3. I used generative AI because I kept recieving an error about my y_test being 'continuous'. However, switching from VSCode to Jupyter Notebook for the assignment fixed this issue (still not sure what was going wrong). The prompt used was the error code provided to me by VSCode. \n",
    "4. I had a few challenges, particularly ensuring that the patterns produced by the exercise were interpreted correctly. This was done by referring back to the in class notes provided by Dr.Dawson."
   ]
  },
  {
   "cell_type": "markdown",
   "id": "e72ac3eb",
   "metadata": {},
   "source": [
    "## Part 3: Observations/Interpretation (3 marks)\n",
    "\n",
    "Describe any pattern you see in the results. Relate your findings to what we discussed during lectures. Include data to justify your findings.\n",
    "\n",
    "\n",
    "*ADD YOUR FINDINGS HERE*\n",
    "\n",
    "There are a few observations that we find in the results of using a linear model for this question. \n",
    "\n",
    "    - An MSE of 111.35 and 95.9 for the training and testing set, respectively shows there is an overfitting of data occuring. It also shows that the linear model used is not adept for this problem. \n",
    "    - The obtained R2 socres of 0.6108 and 0.6243 show there is a large difference between what the model has predicted, hence the model can only explain portions of variance in the data making it not very robust. \n",
    "    - Graphing the actual vs predicted line for the model shows there is a major discrepancy and where this large R2 and MSE values are arising from.\n",
    "    - It is also clear that the model does not consider the possible features accurately, doing so would improve the performance of the mdoel."
   ]
  },
  {
   "cell_type": "code",
   "execution_count": 13,
   "id": "9e0d6f9e",
   "metadata": {},
   "outputs": [
    {
     "data": {
      "image/png": "[encoded data removed]",
      "text/plain": [
       "<Figure size 800x550 with 1 Axes>"
      ]
     },
     "metadata": {},
     "output_type": "display_data"
    }
   ],
   "source": [
    "import matplotlib.pyplot as plt\n",
    "\n",
    "plt.scatter(y_train_pred, y_train, color='blue', label='Actual vs. Predicted', alpha=0.5)\n",
    "\n",
    "plt.plot([min(y_train_pred), max(y_train_pred)], [min(y_train_pred), max(y_train_pred)], color='red', linestyle='--', lw=2, label='Identity Line')\n",
    "\n",
    "plt.xlabel('Predicted Values')\n",
    "plt.ylabel('Actual Values')\n",
    "plt.title('Actual vs. Predicted Values for Training Set')\n",
    "plt.legend(loc='best')\n",
    "\n",
    "# Show the plot\n",
    "plt.show()\n"
   ]
  },
  {
   "cell_type": "markdown",
   "id": "40b84eed",
   "metadata": {},
   "source": [
    "## Part 4: Reflection (2 marks)\n",
    "Include a sentence or two about:\n",
    "- what you liked or disliked,\n",
    "- found interesting, confusing, challangeing, motivating\n",
    "while working on this assignment.\n",
    "\n",
    "\n",
    "*ADD YOUR THOUGHTS HERE*\n",
    "\n",
    "What I liked: I really enjoyed working on the different models and getting a chance to use Linear Regression in real life applications. I found it motivating to see how I can use these examples in industry one day in my career. \n",
    "\n",
    "What I disliked: I felt that the instructions were unclear on how to use the 5% in the first part of the assignment. I thought it was a 95-5 split as oppposed to using 5% and splitting that 80-20. I found that very confusing. I also was getting some strange errors so I would recommend telling students to not use thse notes in VSCode. "
   ]
  },
  {
   "cell_type": "markdown",
   "id": "db951b3a",
   "metadata": {},
   "source": [
    "## Part 5: Bonus Question (4 marks)\n",
    "\n",
    "Repeat Part 2 with Ridge and Lasso regression to see if you can improve the accuracy results. Which method and what value of alpha gave you the best R^2 score? Is this score \"good enough\"? Explain why or why not.\n",
    "\n",
    "**Remember**: Only test values of alpha from 0.001 to 100 along the logorithmic scale."
   ]
  },
  {
   "cell_type": "code",
   "execution_count": 14,
   "id": "47623d44",
   "metadata": {},
   "outputs": [],
   "source": [
    "# TO DO: ADD YOUR CODE HERE"
   ]
  },
  {
   "cell_type": "markdown",
   "id": "1b606236",
   "metadata": {},
   "source": [
    "*ANSWER HERE*"
   ]
  },
  {
   "cell_type": "code",
   "execution_count": 21,
   "id": "f7146118",
   "metadata": {},
   "outputs": [
    {
     "name": "stdout",
     "output_type": "stream",
     "text": [
      "Best Ridge Alpha: 6.13590727341317\n",
      "Best Ridge R^2 Score: 0.6375969647038755\n",
      "Best Lasso Alpha: 0.1668100537200059\n",
      "Best Lasso R^2 Score: 0.6388725682477122\n"
     ]
    },
    {
     "data": {
      "image/png": "[encoded data removed]",
      "text/plain": [
       "<Figure size 1000x600 with 1 Axes>"
      ]
     },
     "metadata": {},
     "output_type": "display_data"
    }
   ],
   "source": [
    "from yellowbrick.datasets import load_concrete\n",
    "\n",
    "from sklearn.linear_model import Ridge, Lasso\n",
    "from sklearn.preprocessing import StandardScaler\n",
    "\n",
    "X, y = load_concrete()\n",
    "\n",
    "X_train, X_test, y_train, y_test = train_test_split(X, y, test_size=0.2, random_state=0)\n",
    "\n",
    "scaler = StandardScaler()\n",
    "X_train_scaled = scaler.fit_transform(X_train)\n",
    "X_test_scaled = scaler.transform(X_test)\n",
    "\n",
    "alphas = np.logspace(-3, 2, num=100)  # Values of alpha from 0.001 to 100 on a logarithmic scale\n",
    "\n",
    "ridge_r2_scores = [] # Initializing ridge score array\n",
    "\n",
    "# Going through to find the optimal R^2 and alpha for ridge regression\n",
    "for alpha in alphas:\n",
    "    ridge = Ridge(alpha=alpha)\n",
    "    ridge.fit(X_train_scaled, y_train)\n",
    "    y_test_pred = ridge.predict(X_test_scaled)\n",
    "    r2_score_value = r2_score(y_test, y_test_pred)\n",
    "    ridge_r2_scores.append(r2_score_value)\n",
    "    \n",
    "best_alpha_ridge = alphas[np.argmax(ridge_r2_scores)]\n",
    "best_r2_score_ridge = max(ridge_r2_scores)\n",
    "\n",
    "print(\"Best Ridge Alpha:\", best_alpha_ridge)\n",
    "print(\"Best Ridge R^2 Score:\", best_r2_score_ridge)\n",
    "\n",
    "lasso_r2_scores = [] # Initializing lasso score array\n",
    "\n",
    "# Going through to find the optimal R^2 and alpha for lasso regression\n",
    "for alpha in alphas: \n",
    "    lasso = Lasso(alpha=alpha)\n",
    "    lasso.fit(X_train_scaled, y_train)\n",
    "    y_test_pred = lasso.predict(X_test_scaled)\n",
    "    r2_score_value = r2_score(y_test, y_test_pred)\n",
    "    lasso_r2_scores.append(r2_score_value)\n",
    "\n",
    "best_alpha_lasso = alphas[np.argmax(lasso_r2_scores)]\n",
    "best_r2_score_lasso = max(lasso_r2_scores)\n",
    "\n",
    "print(\"Best Lasso Alpha:\", best_alpha_lasso)\n",
    "print(\"Best Lasso R^2 Score:\", best_r2_score_lasso)\n",
    "\n",
    "# Plot to show various Alpha's and R^2 Scores of Ridge and Lasso Regression models\n",
    "plt.figure(figsize=(10, 6))\n",
    "plt.semilogx(alphas, ridge_r2_scores, label=\"Ridge\")\n",
    "plt.semilogx(alphas, lasso_r2_scores, label=\"Lasso\")\n",
    "plt.xlabel(\"Alpha\")\n",
    "plt.ylabel(\"R^2 Score\")\n",
    "plt.title(\"R^2 Score vs. Alpha for Ridge and Lasso\")\n",
    "plt.legend()\n",
    "plt.show()\n"
   ]
  }
 ],
 "metadata": {
  "kernelspec": {
   "display_name": "Python 3 (ipykernel)",
   "language": "python",
   "name": "python3"
  },
  "language_info": {
   "codemirror_mode": {
    "name": "ipython",
    "version": 3
   },
   "file_extension": ".py",
   "mimetype": "text/x-python",
   "name": "python",
   "nbconvert_exporter": "python",
   "pygments_lexer": "ipython3",
   "version": "3.9.7"
  }
 },
 "nbformat": 4,
 "nbformat_minor": 5
}
